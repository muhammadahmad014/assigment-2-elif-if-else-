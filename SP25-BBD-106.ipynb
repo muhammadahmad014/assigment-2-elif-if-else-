{
 "cells": [
  {
   "cell_type": "markdown",
   "id": "7641dceb-3386-49d8-ba01-f83504aa88ee",
   "metadata": {},
   "source": [
    "# Qusetion # 1:"
   ]
  },
  {
   "cell_type": "code",
   "execution_count": 2,
   "id": "40c64a16-8fda-4aec-8c40-0dd9cc79e693",
   "metadata": {},
   "outputs": [
    {
     "name": "stdout",
     "output_type": "stream",
     "text": [
      "Positive\n"
     ]
    }
   ],
   "source": [
    "Number=24\n",
    "if Number==+24:\n",
    "    print(\"Positive\")\n",
    "elif  Number==-24:\n",
    "    print(\"Negative\")\n",
    "else:\n",
    "    print(\"Zero\")"
   ]
  },
  {
   "cell_type": "markdown",
   "id": "7cc8c112-8815-4bf9-a59a-c58757e8a14a",
   "metadata": {},
   "source": [
    "# Qusetion # 2:"
   ]
  },
  {
   "cell_type": "code",
   "execution_count": 4,
   "id": "2ac143df-3758-4331-bf41-000efc231996",
   "metadata": {},
   "outputs": [
    {
     "name": "stdout",
     "output_type": "stream",
     "text": [
      "Leap Year\n"
     ]
    }
   ],
   "source": [
    "year= 2024\n",
    "if 2024/4 :\n",
    "    print(\"Leap Year\")\n",
    "else :\n",
    "    print(\"Year\")"
   ]
  },
  {
   "cell_type": "markdown",
   "id": "6048aa19-aa72-494e-9b3a-c5764f63d5c6",
   "metadata": {},
   "source": [
    "# Qusetion # 3:"
   ]
  },
  {
   "cell_type": "code",
   "execution_count": 6,
   "id": "842493aa-6b1e-4ece-bd80-9301e31b8061",
   "metadata": {},
   "outputs": [
    {
     "name": "stdout",
     "output_type": "stream",
     "text": [
      "A\n"
     ]
    }
   ],
   "source": [
    "mark=90\n",
    "if mark >=85:\n",
    "    print(\"A\")\n",
    "elif mark >=70:\n",
    "    print(\"B\")\n",
    "elif mark >=50:\n",
    "    print(\"C\")\n",
    "else :\n",
    "    print(\"D\")    "
   ]
  },
  {
   "cell_type": "code",
   "execution_count": null,
   "id": "ca560b50-2fcb-4f3b-a62f-e393be8154d4",
   "metadata": {},
   "outputs": [],
   "source": []
  }
 ],
 "metadata": {
  "kernelspec": {
   "display_name": "Python [conda env:anaconda new]",
   "language": "python",
   "name": "conda-env-anaconda_new-py"
  },
  "language_info": {
   "codemirror_mode": {
    "name": "ipython",
    "version": 3
   },
   "file_extension": ".py",
   "mimetype": "text/x-python",
   "name": "python",
   "nbconvert_exporter": "python",
   "pygments_lexer": "ipython3",
   "version": "3.12.7"
  }
 },
 "nbformat": 4,
 "nbformat_minor": 5
}
